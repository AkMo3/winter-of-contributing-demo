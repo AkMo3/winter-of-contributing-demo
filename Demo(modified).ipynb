{
  "nbformat": 4,
  "nbformat_minor": 0,
  "metadata": {
    "colab": {
      "name": "Demo.ipynb",
      "provenance": [],
      "collapsed_sections": [],
      "authorship_tag": "ABX9TyMYxfEWmSjW8gPnTFfODauL",
      "include_colab_link": true
    },
    "kernelspec": {
      "name": "python3",
      "display_name": "Python 3"
    },
    "language_info": {
      "name": "python"
    }
  },
  "cells": [
    {
      "cell_type": "markdown",
      "metadata": {
        "id": "view-in-github",
        "colab_type": "text"
      },
      "source": [
        "<a href=\"https://colab.research.google.com/github/sunidhii09/winter-of-contributing-demo/blob/Java/Demo(modified).ipynb\" target=\"_parent\"><img src=\"https://colab.research.google.com/assets/colab-badge.svg\" alt=\"Open In Colab\"/></a>"
      ]
    },
    {
      "cell_type": "markdown",
      "metadata": {
        "id": "CHMDUvG0fHFP"
      },
      "source": [
        "This is a changed file for JAVA."
      ]
    },
    {
      "cell_type": "code",
      "metadata": {
        "id": "Z_FHucyVjKCr"
      },
      "source": [
        "#This is not executed."
      ],
      "execution_count": 3,
      "outputs": []
    }
  ]
}