{
  "nbformat": 4,
  "nbformat_minor": 0,
  "metadata": {
    "colab": {
      "name": "StringTokenizer in Java.ipynb",
      "provenance": []
    },
    "kernelspec": {
      "name": "python3",
      "display_name": "Python 3"
    },
    "language_info": {
      "name": "python"
    }
  },
  "cells": [
    {
      "cell_type": "markdown",
      "metadata": {
        "id": "f7wmFirksnTt"
      },
      "source": [
        "# StringTokenizer in Java\n",
        "\n",
        "The java.util.StringTokenizer class allows you to break a String into tokens. It is simple way to break a String. It is a legacy class of Java.\n",
        "\n",
        "It doesn't provide the facility to differentiate numbers, quoted strings, identifiers etc. like StreamTokenizer class. We will discuss about the StreamTokenizer class in I/O chapter.\n",
        "\n",
        "In the StringTokenizer class, the delimiters can be provided at the time of creation or one by one to the tokens.\n",
        "\n",
        "![example](https://static.javatpoint.com/core/images/string-tokenizer-in-java.png)"
      ]
    }
  ]
}