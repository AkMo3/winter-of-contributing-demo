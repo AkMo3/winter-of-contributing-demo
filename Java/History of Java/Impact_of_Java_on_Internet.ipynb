{
  "nbformat": 4,
  "nbformat_minor": 0,
  "metadata": {
    "colab": {
      "name": "Impact of Java on Internet.ipynb",
      "provenance": []
    },
    "kernelspec": {
      "name": "python3",
      "display_name": "Python 3"
    },
    "language_info": {
      "name": "python"
    }
  },
  "cells": [
    {
      "cell_type": "code",
      "metadata": {
        "id": "_d2Lj1dIlAR5"
      },
      "source": [
        ""
      ],
      "execution_count": null,
      "outputs": []
    },
    {
      "cell_type": "markdown",
      "metadata": {
        "id": "hRtpGC3zlAee"
      },
      "source": [
        "# Impact of Java on Internet\n",
        "\n",
        "Java has had a profound effect on the Internet because it allows objects to move freely in Cyberspace. In a network there are two categories of objects that are transmitted between the Server and the Personal computer. The Dynamic Self-executing programs cause serious problems in the areas of Security and probability."
      ]
    }
  ]
}